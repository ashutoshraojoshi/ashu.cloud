{
 "cells": [
  {
   "cell_type": "code",
   "execution_count": 14,
   "metadata": {},
   "outputs": [],
   "source": [
    "def extract_coordinates_from_google_maps_url(google_maps_url):\n",
    "    # Find the position of \"@\" and \"/data\" in the URL\n",
    "    at_position = google_maps_url.find(\"@\")\n",
    "    data_position = google_maps_url.find(\"/data\")\n",
    "\n",
    "    \n",
    "\n",
    "    # Check if both \"@\" and \"/data\" are found in the URL\n",
    "    if at_position != -1 and data_position != -1:\n",
    "        # Extract the substring between \"@\" and \"/data\"\n",
    "        coordinates_str = google_maps_url[at_position + 1:data_position]\n",
    "        list = coordinates_str.split(\",\")\n",
    "\n",
    "\n",
    "        return list\n"
   ]
  },
  {
   "cell_type": "code",
   "execution_count": 15,
   "metadata": {},
   "outputs": [
    {
     "name": "stdout",
     "output_type": "stream",
     "text": [
      "Latitude: 19.1670324\n",
      "Longitude: 73.2417175\n",
      "Garbage: 17z\n"
     ]
    }
   ],
   "source": [
    "# Input URL\n",
    "google_maps_url = \"https://www.google.com/maps/place/Joshi's+Designing+%26+Printing/@19.1670324,73.2417175,17z/data=!3m1!4b1!4m6!3m5!1s0x3be7930da65c3aff:0xb9ab360fb8cc6b57!8m2!3d19.1670274!4d73.2442924!16s%2Fg%2F11h6yx987h?entry=ttu\"\n",
    "\n",
    "# Extract coordinates and garbage\n",
    "latitude, longitude, garbage = extract_coordinates_from_google_maps_url(google_maps_url)\n",
    "\n",
    "# Print the extracted values\n",
    "print(\"Latitude:\", latitude)\n",
    "print(\"Longitude:\", longitude)\n",
    "print(\"Garbage:\", garbage)"
   ]
  },
  {
   "cell_type": "code",
   "execution_count": null,
   "metadata": {},
   "outputs": [],
   "source": []
  }
 ],
 "metadata": {
  "kernelspec": {
   "display_name": "pylatest",
   "language": "python",
   "name": "python3"
  },
  "language_info": {
   "codemirror_mode": {
    "name": "ipython",
    "version": 3
   },
   "file_extension": ".py",
   "mimetype": "text/x-python",
   "name": "python",
   "nbconvert_exporter": "python",
   "pygments_lexer": "ipython3",
   "version": "3.11.4"
  },
  "orig_nbformat": 4
 },
 "nbformat": 4,
 "nbformat_minor": 2
}
